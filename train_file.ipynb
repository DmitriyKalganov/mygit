{
 "cells": [
  {
   "cell_type": "code",
   "execution_count": 16,
   "id": "db6d910c",
   "metadata": {},
   "outputs": [],
   "source": [
    "import pandas as pd\n",
    "import sqlite3 "
   ]
  },
  {
   "cell_type": "code",
   "execution_count": 4,
   "id": "d9263def",
   "metadata": {},
   "outputs": [],
   "source": [
    "df = pd.read_csv('book.csv',sep = ';')"
   ]
  },
  {
   "cell_type": "code",
   "execution_count": 5,
   "id": "5bf1a227",
   "metadata": {},
   "outputs": [
    {
     "data": {
      "text/html": [
       "<div>\n",
       "<style scoped>\n",
       "    .dataframe tbody tr th:only-of-type {\n",
       "        vertical-align: middle;\n",
       "    }\n",
       "\n",
       "    .dataframe tbody tr th {\n",
       "        vertical-align: top;\n",
       "    }\n",
       "\n",
       "    .dataframe thead th {\n",
       "        text-align: right;\n",
       "    }\n",
       "</style>\n",
       "<table border=\"1\" class=\"dataframe\">\n",
       "  <thead>\n",
       "    <tr style=\"text-align: right;\">\n",
       "      <th></th>\n",
       "      <th>num</th>\n",
       "      <th>dates</th>\n",
       "    </tr>\n",
       "  </thead>\n",
       "  <tbody>\n",
       "    <tr>\n",
       "      <th>0</th>\n",
       "      <td>998 997 000 000</td>\n",
       "      <td>03.11.2022 17:57</td>\n",
       "    </tr>\n",
       "    <tr>\n",
       "      <th>1</th>\n",
       "      <td>998 936 000 000</td>\n",
       "      <td>03.11.2022 17:57</td>\n",
       "    </tr>\n",
       "    <tr>\n",
       "      <th>2</th>\n",
       "      <td>998 937 000 000</td>\n",
       "      <td>03.11.2022 17:57</td>\n",
       "    </tr>\n",
       "    <tr>\n",
       "      <th>3</th>\n",
       "      <td>998 994 000 000</td>\n",
       "      <td>03.11.2022 17:57</td>\n",
       "    </tr>\n",
       "    <tr>\n",
       "      <th>4</th>\n",
       "      <td>998 991 000 000</td>\n",
       "      <td>03.11.2022 17:57</td>\n",
       "    </tr>\n",
       "    <tr>\n",
       "      <th>...</th>\n",
       "      <td>...</td>\n",
       "      <td>...</td>\n",
       "    </tr>\n",
       "    <tr>\n",
       "      <th>44843</th>\n",
       "      <td>998 935 000 000</td>\n",
       "      <td>27.10.2022 14:59</td>\n",
       "    </tr>\n",
       "    <tr>\n",
       "      <th>44844</th>\n",
       "      <td>998 995 000 000</td>\n",
       "      <td>23.10.2022 7:09</td>\n",
       "    </tr>\n",
       "    <tr>\n",
       "      <th>44845</th>\n",
       "      <td>998 909 000 000</td>\n",
       "      <td>16.10.2022 18:46</td>\n",
       "    </tr>\n",
       "    <tr>\n",
       "      <th>44846</th>\n",
       "      <td>998 911 000 000</td>\n",
       "      <td>05.10.2022 20:35</td>\n",
       "    </tr>\n",
       "    <tr>\n",
       "      <th>44847</th>\n",
       "      <td>998 915 000 000</td>\n",
       "      <td>19.10.2022 2:25</td>\n",
       "    </tr>\n",
       "  </tbody>\n",
       "</table>\n",
       "<p>44848 rows × 2 columns</p>\n",
       "</div>"
      ],
      "text/plain": [
       "                      num              dates\n",
       "0       998 997 000 000     03.11.2022 17:57\n",
       "1       998 936 000 000     03.11.2022 17:57\n",
       "2       998 937 000 000     03.11.2022 17:57\n",
       "3       998 994 000 000     03.11.2022 17:57\n",
       "4       998 991 000 000     03.11.2022 17:57\n",
       "...                    ...               ...\n",
       "44843   998 935 000 000     27.10.2022 14:59\n",
       "44844   998 995 000 000      23.10.2022 7:09\n",
       "44845   998 909 000 000     16.10.2022 18:46\n",
       "44846   998 911 000 000     05.10.2022 20:35\n",
       "44847   998 915 000 000      19.10.2022 2:25\n",
       "\n",
       "[44848 rows x 2 columns]"
      ]
     },
     "execution_count": 5,
     "metadata": {},
     "output_type": "execute_result"
    }
   ],
   "source": [
    "df"
   ]
  },
  {
   "cell_type": "code",
   "execution_count": 6,
   "id": "f95b4d42",
   "metadata": {},
   "outputs": [],
   "source": [
    "df['dates'] = pd.to_datetime(df['dates'],format = '%d.%m.%Y %H:%M')"
   ]
  },
  {
   "cell_type": "code",
   "execution_count": 7,
   "id": "96c21d07",
   "metadata": {},
   "outputs": [
    {
     "name": "stdout",
     "output_type": "stream",
     "text": [
      "<class 'pandas.core.frame.DataFrame'>\n",
      "RangeIndex: 44848 entries, 0 to 44847\n",
      "Data columns (total 2 columns):\n",
      " #   Column  Non-Null Count  Dtype         \n",
      "---  ------  --------------  -----         \n",
      " 0    num    44848 non-null  object        \n",
      " 1   dates   44848 non-null  datetime64[ns]\n",
      "dtypes: datetime64[ns](1), object(1)\n",
      "memory usage: 700.9+ KB\n"
     ]
    }
   ],
   "source": [
    "df.info()"
   ]
  },
  {
   "cell_type": "code",
   "execution_count": 8,
   "id": "b1e52b20",
   "metadata": {},
   "outputs": [],
   "source": [
    "pf=df.groupby('dates').count().reset_index()"
   ]
  },
  {
   "cell_type": "code",
   "execution_count": 9,
   "id": "0af4ea99",
   "metadata": {},
   "outputs": [
    {
     "data": {
      "text/html": [
       "<div>\n",
       "<style scoped>\n",
       "    .dataframe tbody tr th:only-of-type {\n",
       "        vertical-align: middle;\n",
       "    }\n",
       "\n",
       "    .dataframe tbody tr th {\n",
       "        vertical-align: top;\n",
       "    }\n",
       "\n",
       "    .dataframe thead th {\n",
       "        text-align: right;\n",
       "    }\n",
       "</style>\n",
       "<table border=\"1\" class=\"dataframe\">\n",
       "  <thead>\n",
       "    <tr style=\"text-align: right;\">\n",
       "      <th></th>\n",
       "      <th>dates</th>\n",
       "      <th>num</th>\n",
       "    </tr>\n",
       "  </thead>\n",
       "  <tbody>\n",
       "    <tr>\n",
       "      <th>20261</th>\n",
       "      <td>2022-11-03 17:58:00</td>\n",
       "      <td>3</td>\n",
       "    </tr>\n",
       "    <tr>\n",
       "      <th>20260</th>\n",
       "      <td>2022-11-03 17:57:00</td>\n",
       "      <td>52</td>\n",
       "    </tr>\n",
       "    <tr>\n",
       "      <th>20259</th>\n",
       "      <td>2022-11-03 17:56:00</td>\n",
       "      <td>46</td>\n",
       "    </tr>\n",
       "    <tr>\n",
       "      <th>20258</th>\n",
       "      <td>2022-11-03 17:55:00</td>\n",
       "      <td>56</td>\n",
       "    </tr>\n",
       "    <tr>\n",
       "      <th>20257</th>\n",
       "      <td>2022-11-03 17:54:00</td>\n",
       "      <td>38</td>\n",
       "    </tr>\n",
       "    <tr>\n",
       "      <th>...</th>\n",
       "      <td>...</td>\n",
       "      <td>...</td>\n",
       "    </tr>\n",
       "    <tr>\n",
       "      <th>4</th>\n",
       "      <td>2022-10-03 01:00:00</td>\n",
       "      <td>1</td>\n",
       "    </tr>\n",
       "    <tr>\n",
       "      <th>3</th>\n",
       "      <td>2022-10-03 00:59:00</td>\n",
       "      <td>2</td>\n",
       "    </tr>\n",
       "    <tr>\n",
       "      <th>2</th>\n",
       "      <td>2022-10-03 00:33:00</td>\n",
       "      <td>1</td>\n",
       "    </tr>\n",
       "    <tr>\n",
       "      <th>1</th>\n",
       "      <td>2022-10-03 00:14:00</td>\n",
       "      <td>1</td>\n",
       "    </tr>\n",
       "    <tr>\n",
       "      <th>0</th>\n",
       "      <td>2022-10-03 00:11:00</td>\n",
       "      <td>1</td>\n",
       "    </tr>\n",
       "  </tbody>\n",
       "</table>\n",
       "<p>20262 rows × 2 columns</p>\n",
       "</div>"
      ],
      "text/plain": [
       "                    dates   num \n",
       "20261 2022-11-03 17:58:00      3\n",
       "20260 2022-11-03 17:57:00     52\n",
       "20259 2022-11-03 17:56:00     46\n",
       "20258 2022-11-03 17:55:00     56\n",
       "20257 2022-11-03 17:54:00     38\n",
       "...                   ...    ...\n",
       "4     2022-10-03 01:00:00      1\n",
       "3     2022-10-03 00:59:00      2\n",
       "2     2022-10-03 00:33:00      1\n",
       "1     2022-10-03 00:14:00      1\n",
       "0     2022-10-03 00:11:00      1\n",
       "\n",
       "[20262 rows x 2 columns]"
      ]
     },
     "execution_count": 9,
     "metadata": {},
     "output_type": "execute_result"
    }
   ],
   "source": [
    "pf.sort_values(by = 'dates',ascending=False)"
   ]
  },
  {
   "cell_type": "code",
   "execution_count": 10,
   "id": "2fdc9072",
   "metadata": {},
   "outputs": [
    {
     "data": {
      "text/plain": [
       " num     0.0\n",
       "dates    0.0\n",
       "dtype: float64"
      ]
     },
     "execution_count": 10,
     "metadata": {},
     "output_type": "execute_result"
    }
   ],
   "source": [
    "df.isna().mean()"
   ]
  },
  {
   "cell_type": "code",
   "execution_count": 11,
   "id": "1a437970",
   "metadata": {},
   "outputs": [
    {
     "data": {
      "text/plain": [
       "Index([' num ', 'dates'], dtype='object')"
      ]
     },
     "execution_count": 11,
     "metadata": {},
     "output_type": "execute_result"
    }
   ],
   "source": [
    "df.columns"
   ]
  },
  {
   "cell_type": "code",
   "execution_count": 12,
   "id": "98e93a0d",
   "metadata": {},
   "outputs": [],
   "source": [
    "df.columns = ['num', 'dates']"
   ]
  },
  {
   "cell_type": "code",
   "execution_count": 13,
   "id": "c856432a",
   "metadata": {},
   "outputs": [],
   "source": [
    "df['num'] = df['num'].str.replace(' ','')"
   ]
  },
  {
   "cell_type": "code",
   "execution_count": 14,
   "id": "3305ec42",
   "metadata": {},
   "outputs": [],
   "source": [
    "df['num'] = df['num'].astype(\"int64\")"
   ]
  },
  {
   "cell_type": "code",
   "execution_count": 15,
   "id": "3990f2d8",
   "metadata": {},
   "outputs": [
    {
     "data": {
      "text/html": [
       "<div>\n",
       "<style scoped>\n",
       "    .dataframe tbody tr th:only-of-type {\n",
       "        vertical-align: middle;\n",
       "    }\n",
       "\n",
       "    .dataframe tbody tr th {\n",
       "        vertical-align: top;\n",
       "    }\n",
       "\n",
       "    .dataframe thead th {\n",
       "        text-align: right;\n",
       "    }\n",
       "</style>\n",
       "<table border=\"1\" class=\"dataframe\">\n",
       "  <thead>\n",
       "    <tr style=\"text-align: right;\">\n",
       "      <th></th>\n",
       "      <th>num</th>\n",
       "      <th>dates</th>\n",
       "    </tr>\n",
       "  </thead>\n",
       "  <tbody>\n",
       "    <tr>\n",
       "      <th>123</th>\n",
       "      <td>998997000000</td>\n",
       "      <td>1063</td>\n",
       "    </tr>\n",
       "    <tr>\n",
       "      <th>122</th>\n",
       "      <td>998996000000</td>\n",
       "      <td>1060</td>\n",
       "    </tr>\n",
       "    <tr>\n",
       "      <th>117</th>\n",
       "      <td>998991000000</td>\n",
       "      <td>1053</td>\n",
       "    </tr>\n",
       "    <tr>\n",
       "      <th>120</th>\n",
       "      <td>998994000000</td>\n",
       "      <td>1043</td>\n",
       "    </tr>\n",
       "    <tr>\n",
       "      <th>121</th>\n",
       "      <td>998995000000</td>\n",
       "      <td>989</td>\n",
       "    </tr>\n",
       "    <tr>\n",
       "      <th>...</th>\n",
       "      <td>...</td>\n",
       "      <td>...</td>\n",
       "    </tr>\n",
       "    <tr>\n",
       "      <th>18</th>\n",
       "      <td>998581000000</td>\n",
       "      <td>1</td>\n",
       "    </tr>\n",
       "    <tr>\n",
       "      <th>111</th>\n",
       "      <td>998985000000</td>\n",
       "      <td>1</td>\n",
       "    </tr>\n",
       "    <tr>\n",
       "      <th>19</th>\n",
       "      <td>998709000000</td>\n",
       "      <td>1</td>\n",
       "    </tr>\n",
       "    <tr>\n",
       "      <th>20</th>\n",
       "      <td>998719000000</td>\n",
       "      <td>1</td>\n",
       "    </tr>\n",
       "    <tr>\n",
       "      <th>0</th>\n",
       "      <td>998099000000</td>\n",
       "      <td>1</td>\n",
       "    </tr>\n",
       "  </tbody>\n",
       "</table>\n",
       "<p>127 rows × 2 columns</p>\n",
       "</div>"
      ],
      "text/plain": [
       "              num  dates\n",
       "123  998997000000   1063\n",
       "122  998996000000   1060\n",
       "117  998991000000   1053\n",
       "120  998994000000   1043\n",
       "121  998995000000    989\n",
       "..            ...    ...\n",
       "18   998581000000      1\n",
       "111  998985000000      1\n",
       "19   998709000000      1\n",
       "20   998719000000      1\n",
       "0    998099000000      1\n",
       "\n",
       "[127 rows x 2 columns]"
      ]
     },
     "execution_count": 15,
     "metadata": {},
     "output_type": "execute_result"
    }
   ],
   "source": [
    "df.groupby('num')[['dates']].agg({'dates':'count'}).reset_index().sort_values(by='dates',ascending=False)"
   ]
  },
  {
   "cell_type": "code",
   "execution_count": 17,
   "id": "9f8bf0d4",
   "metadata": {},
   "outputs": [],
   "source": [
    "con = sqlite3.connect('db')"
   ]
  },
  {
   "cell_type": "code",
   "execution_count": 18,
   "id": "7bec0cee",
   "metadata": {},
   "outputs": [
    {
     "data": {
      "text/plain": [
       "44848"
      ]
     },
     "execution_count": 18,
     "metadata": {},
     "output_type": "execute_result"
    }
   ],
   "source": [
    "df.to_sql('data',con,index=False,if_exists='replace')"
   ]
  },
  {
   "cell_type": "code",
   "execution_count": 28,
   "id": "0421c0dc",
   "metadata": {},
   "outputs": [],
   "source": [
    "sql = '''select * from data t \n",
    "where num = 998997000000\n",
    "limit 1'''"
   ]
  },
  {
   "cell_type": "code",
   "execution_count": 29,
   "id": "370dd441",
   "metadata": {},
   "outputs": [
    {
     "data": {
      "text/html": [
       "<div>\n",
       "<style scoped>\n",
       "    .dataframe tbody tr th:only-of-type {\n",
       "        vertical-align: middle;\n",
       "    }\n",
       "\n",
       "    .dataframe tbody tr th {\n",
       "        vertical-align: top;\n",
       "    }\n",
       "\n",
       "    .dataframe thead th {\n",
       "        text-align: right;\n",
       "    }\n",
       "</style>\n",
       "<table border=\"1\" class=\"dataframe\">\n",
       "  <thead>\n",
       "    <tr style=\"text-align: right;\">\n",
       "      <th></th>\n",
       "      <th>num</th>\n",
       "      <th>dates</th>\n",
       "    </tr>\n",
       "  </thead>\n",
       "  <tbody>\n",
       "    <tr>\n",
       "      <th>0</th>\n",
       "      <td>998997000000</td>\n",
       "      <td>2022-11-03 17:57:00</td>\n",
       "    </tr>\n",
       "  </tbody>\n",
       "</table>\n",
       "</div>"
      ],
      "text/plain": [
       "            num                dates\n",
       "0  998997000000  2022-11-03 17:57:00"
      ]
     },
     "execution_count": 29,
     "metadata": {},
     "output_type": "execute_result"
    }
   ],
   "source": [
    "pd.read_sql(sql,con)"
   ]
  },
  {
   "cell_type": "code",
   "execution_count": 32,
   "id": "c63b835f",
   "metadata": {},
   "outputs": [],
   "source": [
    "def select(sql):\n",
    "    return pd.read_sql(sql,con)"
   ]
  },
  {
   "cell_type": "code",
   "execution_count": 33,
   "id": "0cb45c73",
   "metadata": {},
   "outputs": [
    {
     "data": {
      "text/html": [
       "<div>\n",
       "<style scoped>\n",
       "    .dataframe tbody tr th:only-of-type {\n",
       "        vertical-align: middle;\n",
       "    }\n",
       "\n",
       "    .dataframe tbody tr th {\n",
       "        vertical-align: top;\n",
       "    }\n",
       "\n",
       "    .dataframe thead th {\n",
       "        text-align: right;\n",
       "    }\n",
       "</style>\n",
       "<table border=\"1\" class=\"dataframe\">\n",
       "  <thead>\n",
       "    <tr style=\"text-align: right;\">\n",
       "      <th></th>\n",
       "      <th>num</th>\n",
       "      <th>dates</th>\n",
       "    </tr>\n",
       "  </thead>\n",
       "  <tbody>\n",
       "    <tr>\n",
       "      <th>0</th>\n",
       "      <td>998997000000</td>\n",
       "      <td>2022-11-03 17:57:00</td>\n",
       "    </tr>\n",
       "  </tbody>\n",
       "</table>\n",
       "</div>"
      ],
      "text/plain": [
       "            num                dates\n",
       "0  998997000000  2022-11-03 17:57:00"
      ]
     },
     "execution_count": 33,
     "metadata": {},
     "output_type": "execute_result"
    }
   ],
   "source": [
    "select(sql)"
   ]
  },
  {
   "cell_type": "code",
   "execution_count": 34,
   "id": "906c73b9",
   "metadata": {},
   "outputs": [],
   "source": [
    "sql = '''select * from data'''"
   ]
  },
  {
   "cell_type": "code",
   "execution_count": 36,
   "id": "8658decb",
   "metadata": {},
   "outputs": [
    {
     "data": {
      "text/html": [
       "<div>\n",
       "<style scoped>\n",
       "    .dataframe tbody tr th:only-of-type {\n",
       "        vertical-align: middle;\n",
       "    }\n",
       "\n",
       "    .dataframe tbody tr th {\n",
       "        vertical-align: top;\n",
       "    }\n",
       "\n",
       "    .dataframe thead th {\n",
       "        text-align: right;\n",
       "    }\n",
       "</style>\n",
       "<table border=\"1\" class=\"dataframe\">\n",
       "  <thead>\n",
       "    <tr style=\"text-align: right;\">\n",
       "      <th></th>\n",
       "      <th>num</th>\n",
       "      <th>dates</th>\n",
       "    </tr>\n",
       "  </thead>\n",
       "  <tbody>\n",
       "    <tr>\n",
       "      <th>0</th>\n",
       "      <td>998997000000</td>\n",
       "      <td>2022-11-03 17:57:00</td>\n",
       "    </tr>\n",
       "    <tr>\n",
       "      <th>1</th>\n",
       "      <td>998936000000</td>\n",
       "      <td>2022-11-03 17:57:00</td>\n",
       "    </tr>\n",
       "    <tr>\n",
       "      <th>2</th>\n",
       "      <td>998937000000</td>\n",
       "      <td>2022-11-03 17:57:00</td>\n",
       "    </tr>\n",
       "    <tr>\n",
       "      <th>3</th>\n",
       "      <td>998994000000</td>\n",
       "      <td>2022-11-03 17:57:00</td>\n",
       "    </tr>\n",
       "    <tr>\n",
       "      <th>4</th>\n",
       "      <td>998991000000</td>\n",
       "      <td>2022-11-03 17:57:00</td>\n",
       "    </tr>\n",
       "    <tr>\n",
       "      <th>...</th>\n",
       "      <td>...</td>\n",
       "      <td>...</td>\n",
       "    </tr>\n",
       "    <tr>\n",
       "      <th>44843</th>\n",
       "      <td>998935000000</td>\n",
       "      <td>2022-10-27 14:59:00</td>\n",
       "    </tr>\n",
       "    <tr>\n",
       "      <th>44844</th>\n",
       "      <td>998995000000</td>\n",
       "      <td>2022-10-23 07:09:00</td>\n",
       "    </tr>\n",
       "    <tr>\n",
       "      <th>44845</th>\n",
       "      <td>998909000000</td>\n",
       "      <td>2022-10-16 18:46:00</td>\n",
       "    </tr>\n",
       "    <tr>\n",
       "      <th>44846</th>\n",
       "      <td>998911000000</td>\n",
       "      <td>2022-10-05 20:35:00</td>\n",
       "    </tr>\n",
       "    <tr>\n",
       "      <th>44847</th>\n",
       "      <td>998915000000</td>\n",
       "      <td>2022-10-19 02:25:00</td>\n",
       "    </tr>\n",
       "  </tbody>\n",
       "</table>\n",
       "<p>44848 rows × 2 columns</p>\n",
       "</div>"
      ],
      "text/plain": [
       "                num                dates\n",
       "0      998997000000  2022-11-03 17:57:00\n",
       "1      998936000000  2022-11-03 17:57:00\n",
       "2      998937000000  2022-11-03 17:57:00\n",
       "3      998994000000  2022-11-03 17:57:00\n",
       "4      998991000000  2022-11-03 17:57:00\n",
       "...             ...                  ...\n",
       "44843  998935000000  2022-10-27 14:59:00\n",
       "44844  998995000000  2022-10-23 07:09:00\n",
       "44845  998909000000  2022-10-16 18:46:00\n",
       "44846  998911000000  2022-10-05 20:35:00\n",
       "44847  998915000000  2022-10-19 02:25:00\n",
       "\n",
       "[44848 rows x 2 columns]"
      ]
     },
     "execution_count": 36,
     "metadata": {},
     "output_type": "execute_result"
    }
   ],
   "source": [
    "select(sql)"
   ]
  },
  {
   "cell_type": "code",
   "execution_count": 39,
   "id": "e675782a",
   "metadata": {},
   "outputs": [
    {
     "name": "stderr",
     "output_type": "stream",
     "text": [
      "C:\\Users\\dmitriy.kalganov\\AppData\\Local\\Temp\\ipykernel_10108\\2712964336.py:1: FutureWarning: Treating datetime data as categorical rather than numeric in `.describe` is deprecated and will be removed in a future version of pandas. Specify `datetime_is_numeric=True` to silence this warning and adopt the future behavior now.\n",
      "  df['dates'].describe()\n"
     ]
    },
    {
     "data": {
      "text/plain": [
       "count                   44848\n",
       "unique                  20262\n",
       "top       2022-11-03 17:55:00\n",
       "freq                       56\n",
       "first     2022-10-03 00:11:00\n",
       "last      2022-11-03 17:58:00\n",
       "Name: dates, dtype: object"
      ]
     },
     "execution_count": 39,
     "metadata": {},
     "output_type": "execute_result"
    }
   ],
   "source": [
    "df['dates'].describe()"
   ]
  },
  {
   "cell_type": "code",
   "execution_count": null,
   "id": "7972c57d",
   "metadata": {},
   "outputs": [],
   "source": []
  }
 ],
 "metadata": {
  "kernelspec": {
   "display_name": "Python 3 (ipykernel)",
   "language": "python",
   "name": "python3"
  },
  "language_info": {
   "codemirror_mode": {
    "name": "ipython",
    "version": 3
   },
   "file_extension": ".py",
   "mimetype": "text/x-python",
   "name": "python",
   "nbconvert_exporter": "python",
   "pygments_lexer": "ipython3",
   "version": "3.9.13"
  }
 },
 "nbformat": 4,
 "nbformat_minor": 5
}
